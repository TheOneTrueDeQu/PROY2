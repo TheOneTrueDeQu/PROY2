{
 "cells": [
  {
   "cell_type": "code",
   "execution_count": 80,
   "metadata": {
    "id": "dDTjPXdfKLsi"
   },
   "outputs": [],
   "source": [
    "import pandas as pd\n",
    "from sklearn.model_selection import train_test_split\n",
    "from sklearn.preprocessing import StandardScaler, OneHotEncoder\n",
    "from sklearn.compose import ColumnTransformer\n",
    "from sklearn.pipeline import Pipeline\n",
    "import numpy as np\n",
    "from sklearn.impute import SimpleImputer\n",
    "import matplotlib.pyplot as plt\n",
    "from sklearn.metrics import accuracy_score, precision_score, recall_score, f1_score\n",
    "import tensorflow as tf\n",
    "from tensorflow.keras import layers, models"
   ]
  },
  {
   "cell_type": "code",
   "execution_count": 81,
   "metadata": {
    "id": "AFEf7GyCKSSL"
   },
   "outputs": [],
   "source": [
    "#Se descarga base de datos\n",
    "data = pd.read_csv('bank-full.csv', sep = \";\")"
   ]
  },
  {
   "cell_type": "markdown",
   "metadata": {
    "id": "Ct11Sf8Te2tl"
   },
   "source": [
    "## **Analisis** **Inicial**"
   ]
  },
  {
   "cell_type": "code",
   "execution_count": 82,
   "metadata": {
    "colab": {
     "base_uri": "https://localhost:8080/"
    },
    "id": "6ih0gjLwKVAQ",
    "outputId": "33966d7a-3e5d-4d8e-8765-e429ab7f7d5c"
   },
   "outputs": [
    {
     "name": "stdout",
     "output_type": "stream",
     "text": [
      "<class 'pandas.core.frame.DataFrame'>\n",
      "RangeIndex: 45211 entries, 0 to 45210\n",
      "Data columns (total 17 columns):\n",
      " #   Column     Non-Null Count  Dtype \n",
      "---  ------     --------------  ----- \n",
      " 0   age        45211 non-null  int64 \n",
      " 1   job        45211 non-null  object\n",
      " 2   marital    45211 non-null  object\n",
      " 3   education  45211 non-null  object\n",
      " 4   default    45211 non-null  object\n",
      " 5   balance    45211 non-null  int64 \n",
      " 6   housing    45211 non-null  object\n",
      " 7   loan       45211 non-null  object\n",
      " 8   contact    45211 non-null  object\n",
      " 9   day        45211 non-null  int64 \n",
      " 10  month      45211 non-null  object\n",
      " 11  duration   45211 non-null  int64 \n",
      " 12  campaign   45211 non-null  int64 \n",
      " 13  pdays      45211 non-null  int64 \n",
      " 14  previous   45211 non-null  int64 \n",
      " 15  poutcome   45211 non-null  object\n",
      " 16  y          45211 non-null  object\n",
      "dtypes: int64(7), object(10)\n",
      "memory usage: 5.9+ MB\n"
     ]
    }
   ],
   "source": [
    "#Se observa informacion inicial\n",
    "data.info()"
   ]
  },
  {
   "cell_type": "code",
   "execution_count": 83,
   "metadata": {
    "colab": {
     "base_uri": "https://localhost:8080/",
     "height": 554
    },
    "id": "m6kAfAHcKW_F",
    "outputId": "4dedfa32-ba24-486d-e1b0-c2775f97b150"
   },
   "outputs": [
    {
     "data": {
      "text/plain": [
       "age          0\n",
       "job          0\n",
       "marital      0\n",
       "education    0\n",
       "default      0\n",
       "balance      0\n",
       "housing      0\n",
       "loan         0\n",
       "contact      0\n",
       "day          0\n",
       "month        0\n",
       "duration     0\n",
       "campaign     0\n",
       "pdays        0\n",
       "previous     0\n",
       "poutcome     0\n",
       "y            0\n",
       "dtype: int64"
      ]
     },
     "execution_count": 83,
     "metadata": {},
     "output_type": "execute_result"
    }
   ],
   "source": [
    "#Se buscan datos faltantes\n",
    "data.isnull().sum()"
   ]
  },
  {
   "cell_type": "code",
   "execution_count": 84,
   "metadata": {
    "colab": {
     "base_uri": "https://localhost:8080/",
     "height": 1000
    },
    "id": "kbxSI-QKKZJR",
    "outputId": "f7d4711c-6b37-4f0d-e8b9-613ec696f113"
   },
   "outputs": [
    {
     "data": {
      "text/html": [
       "<div>\n",
       "<style scoped>\n",
       "    .dataframe tbody tr th:only-of-type {\n",
       "        vertical-align: middle;\n",
       "    }\n",
       "\n",
       "    .dataframe tbody tr th {\n",
       "        vertical-align: top;\n",
       "    }\n",
       "\n",
       "    .dataframe thead th {\n",
       "        text-align: right;\n",
       "    }\n",
       "</style>\n",
       "<table border=\"1\" class=\"dataframe\">\n",
       "  <thead>\n",
       "    <tr style=\"text-align: right;\">\n",
       "      <th></th>\n",
       "      <th>age</th>\n",
       "      <th>job</th>\n",
       "      <th>marital</th>\n",
       "      <th>education</th>\n",
       "      <th>default</th>\n",
       "      <th>balance</th>\n",
       "      <th>housing</th>\n",
       "      <th>loan</th>\n",
       "      <th>contact</th>\n",
       "      <th>day</th>\n",
       "      <th>month</th>\n",
       "      <th>duration</th>\n",
       "      <th>campaign</th>\n",
       "      <th>pdays</th>\n",
       "      <th>previous</th>\n",
       "      <th>poutcome</th>\n",
       "      <th>y</th>\n",
       "    </tr>\n",
       "  </thead>\n",
       "  <tbody>\n",
       "    <tr>\n",
       "      <th>0</th>\n",
       "      <td>58</td>\n",
       "      <td>management</td>\n",
       "      <td>married</td>\n",
       "      <td>tertiary</td>\n",
       "      <td>no</td>\n",
       "      <td>2143</td>\n",
       "      <td>yes</td>\n",
       "      <td>no</td>\n",
       "      <td>unknown</td>\n",
       "      <td>5</td>\n",
       "      <td>may</td>\n",
       "      <td>261</td>\n",
       "      <td>1</td>\n",
       "      <td>-1</td>\n",
       "      <td>0</td>\n",
       "      <td>unknown</td>\n",
       "      <td>no</td>\n",
       "    </tr>\n",
       "    <tr>\n",
       "      <th>1</th>\n",
       "      <td>44</td>\n",
       "      <td>technician</td>\n",
       "      <td>single</td>\n",
       "      <td>secondary</td>\n",
       "      <td>no</td>\n",
       "      <td>29</td>\n",
       "      <td>yes</td>\n",
       "      <td>no</td>\n",
       "      <td>unknown</td>\n",
       "      <td>5</td>\n",
       "      <td>may</td>\n",
       "      <td>151</td>\n",
       "      <td>1</td>\n",
       "      <td>-1</td>\n",
       "      <td>0</td>\n",
       "      <td>unknown</td>\n",
       "      <td>no</td>\n",
       "    </tr>\n",
       "    <tr>\n",
       "      <th>2</th>\n",
       "      <td>33</td>\n",
       "      <td>entrepreneur</td>\n",
       "      <td>married</td>\n",
       "      <td>secondary</td>\n",
       "      <td>no</td>\n",
       "      <td>2</td>\n",
       "      <td>yes</td>\n",
       "      <td>yes</td>\n",
       "      <td>unknown</td>\n",
       "      <td>5</td>\n",
       "      <td>may</td>\n",
       "      <td>76</td>\n",
       "      <td>1</td>\n",
       "      <td>-1</td>\n",
       "      <td>0</td>\n",
       "      <td>unknown</td>\n",
       "      <td>no</td>\n",
       "    </tr>\n",
       "    <tr>\n",
       "      <th>3</th>\n",
       "      <td>47</td>\n",
       "      <td>blue-collar</td>\n",
       "      <td>married</td>\n",
       "      <td>unknown</td>\n",
       "      <td>no</td>\n",
       "      <td>1506</td>\n",
       "      <td>yes</td>\n",
       "      <td>no</td>\n",
       "      <td>unknown</td>\n",
       "      <td>5</td>\n",
       "      <td>may</td>\n",
       "      <td>92</td>\n",
       "      <td>1</td>\n",
       "      <td>-1</td>\n",
       "      <td>0</td>\n",
       "      <td>unknown</td>\n",
       "      <td>no</td>\n",
       "    </tr>\n",
       "    <tr>\n",
       "      <th>4</th>\n",
       "      <td>33</td>\n",
       "      <td>unknown</td>\n",
       "      <td>single</td>\n",
       "      <td>unknown</td>\n",
       "      <td>no</td>\n",
       "      <td>1</td>\n",
       "      <td>no</td>\n",
       "      <td>no</td>\n",
       "      <td>unknown</td>\n",
       "      <td>5</td>\n",
       "      <td>may</td>\n",
       "      <td>198</td>\n",
       "      <td>1</td>\n",
       "      <td>-1</td>\n",
       "      <td>0</td>\n",
       "      <td>unknown</td>\n",
       "      <td>no</td>\n",
       "    </tr>\n",
       "    <tr>\n",
       "      <th>5</th>\n",
       "      <td>35</td>\n",
       "      <td>management</td>\n",
       "      <td>married</td>\n",
       "      <td>tertiary</td>\n",
       "      <td>no</td>\n",
       "      <td>231</td>\n",
       "      <td>yes</td>\n",
       "      <td>no</td>\n",
       "      <td>unknown</td>\n",
       "      <td>5</td>\n",
       "      <td>may</td>\n",
       "      <td>139</td>\n",
       "      <td>1</td>\n",
       "      <td>-1</td>\n",
       "      <td>0</td>\n",
       "      <td>unknown</td>\n",
       "      <td>no</td>\n",
       "    </tr>\n",
       "    <tr>\n",
       "      <th>6</th>\n",
       "      <td>28</td>\n",
       "      <td>management</td>\n",
       "      <td>single</td>\n",
       "      <td>tertiary</td>\n",
       "      <td>no</td>\n",
       "      <td>447</td>\n",
       "      <td>yes</td>\n",
       "      <td>yes</td>\n",
       "      <td>unknown</td>\n",
       "      <td>5</td>\n",
       "      <td>may</td>\n",
       "      <td>217</td>\n",
       "      <td>1</td>\n",
       "      <td>-1</td>\n",
       "      <td>0</td>\n",
       "      <td>unknown</td>\n",
       "      <td>no</td>\n",
       "    </tr>\n",
       "    <tr>\n",
       "      <th>7</th>\n",
       "      <td>42</td>\n",
       "      <td>entrepreneur</td>\n",
       "      <td>divorced</td>\n",
       "      <td>tertiary</td>\n",
       "      <td>yes</td>\n",
       "      <td>2</td>\n",
       "      <td>yes</td>\n",
       "      <td>no</td>\n",
       "      <td>unknown</td>\n",
       "      <td>5</td>\n",
       "      <td>may</td>\n",
       "      <td>380</td>\n",
       "      <td>1</td>\n",
       "      <td>-1</td>\n",
       "      <td>0</td>\n",
       "      <td>unknown</td>\n",
       "      <td>no</td>\n",
       "    </tr>\n",
       "    <tr>\n",
       "      <th>8</th>\n",
       "      <td>58</td>\n",
       "      <td>retired</td>\n",
       "      <td>married</td>\n",
       "      <td>primary</td>\n",
       "      <td>no</td>\n",
       "      <td>121</td>\n",
       "      <td>yes</td>\n",
       "      <td>no</td>\n",
       "      <td>unknown</td>\n",
       "      <td>5</td>\n",
       "      <td>may</td>\n",
       "      <td>50</td>\n",
       "      <td>1</td>\n",
       "      <td>-1</td>\n",
       "      <td>0</td>\n",
       "      <td>unknown</td>\n",
       "      <td>no</td>\n",
       "    </tr>\n",
       "    <tr>\n",
       "      <th>9</th>\n",
       "      <td>43</td>\n",
       "      <td>technician</td>\n",
       "      <td>single</td>\n",
       "      <td>secondary</td>\n",
       "      <td>no</td>\n",
       "      <td>593</td>\n",
       "      <td>yes</td>\n",
       "      <td>no</td>\n",
       "      <td>unknown</td>\n",
       "      <td>5</td>\n",
       "      <td>may</td>\n",
       "      <td>55</td>\n",
       "      <td>1</td>\n",
       "      <td>-1</td>\n",
       "      <td>0</td>\n",
       "      <td>unknown</td>\n",
       "      <td>no</td>\n",
       "    </tr>\n",
       "    <tr>\n",
       "      <th>10</th>\n",
       "      <td>41</td>\n",
       "      <td>admin.</td>\n",
       "      <td>divorced</td>\n",
       "      <td>secondary</td>\n",
       "      <td>no</td>\n",
       "      <td>270</td>\n",
       "      <td>yes</td>\n",
       "      <td>no</td>\n",
       "      <td>unknown</td>\n",
       "      <td>5</td>\n",
       "      <td>may</td>\n",
       "      <td>222</td>\n",
       "      <td>1</td>\n",
       "      <td>-1</td>\n",
       "      <td>0</td>\n",
       "      <td>unknown</td>\n",
       "      <td>no</td>\n",
       "    </tr>\n",
       "    <tr>\n",
       "      <th>11</th>\n",
       "      <td>29</td>\n",
       "      <td>admin.</td>\n",
       "      <td>single</td>\n",
       "      <td>secondary</td>\n",
       "      <td>no</td>\n",
       "      <td>390</td>\n",
       "      <td>yes</td>\n",
       "      <td>no</td>\n",
       "      <td>unknown</td>\n",
       "      <td>5</td>\n",
       "      <td>may</td>\n",
       "      <td>137</td>\n",
       "      <td>1</td>\n",
       "      <td>-1</td>\n",
       "      <td>0</td>\n",
       "      <td>unknown</td>\n",
       "      <td>no</td>\n",
       "    </tr>\n",
       "    <tr>\n",
       "      <th>12</th>\n",
       "      <td>53</td>\n",
       "      <td>technician</td>\n",
       "      <td>married</td>\n",
       "      <td>secondary</td>\n",
       "      <td>no</td>\n",
       "      <td>6</td>\n",
       "      <td>yes</td>\n",
       "      <td>no</td>\n",
       "      <td>unknown</td>\n",
       "      <td>5</td>\n",
       "      <td>may</td>\n",
       "      <td>517</td>\n",
       "      <td>1</td>\n",
       "      <td>-1</td>\n",
       "      <td>0</td>\n",
       "      <td>unknown</td>\n",
       "      <td>no</td>\n",
       "    </tr>\n",
       "    <tr>\n",
       "      <th>13</th>\n",
       "      <td>58</td>\n",
       "      <td>technician</td>\n",
       "      <td>married</td>\n",
       "      <td>unknown</td>\n",
       "      <td>no</td>\n",
       "      <td>71</td>\n",
       "      <td>yes</td>\n",
       "      <td>no</td>\n",
       "      <td>unknown</td>\n",
       "      <td>5</td>\n",
       "      <td>may</td>\n",
       "      <td>71</td>\n",
       "      <td>1</td>\n",
       "      <td>-1</td>\n",
       "      <td>0</td>\n",
       "      <td>unknown</td>\n",
       "      <td>no</td>\n",
       "    </tr>\n",
       "    <tr>\n",
       "      <th>14</th>\n",
       "      <td>57</td>\n",
       "      <td>services</td>\n",
       "      <td>married</td>\n",
       "      <td>secondary</td>\n",
       "      <td>no</td>\n",
       "      <td>162</td>\n",
       "      <td>yes</td>\n",
       "      <td>no</td>\n",
       "      <td>unknown</td>\n",
       "      <td>5</td>\n",
       "      <td>may</td>\n",
       "      <td>174</td>\n",
       "      <td>1</td>\n",
       "      <td>-1</td>\n",
       "      <td>0</td>\n",
       "      <td>unknown</td>\n",
       "      <td>no</td>\n",
       "    </tr>\n",
       "    <tr>\n",
       "      <th>15</th>\n",
       "      <td>51</td>\n",
       "      <td>retired</td>\n",
       "      <td>married</td>\n",
       "      <td>primary</td>\n",
       "      <td>no</td>\n",
       "      <td>229</td>\n",
       "      <td>yes</td>\n",
       "      <td>no</td>\n",
       "      <td>unknown</td>\n",
       "      <td>5</td>\n",
       "      <td>may</td>\n",
       "      <td>353</td>\n",
       "      <td>1</td>\n",
       "      <td>-1</td>\n",
       "      <td>0</td>\n",
       "      <td>unknown</td>\n",
       "      <td>no</td>\n",
       "    </tr>\n",
       "    <tr>\n",
       "      <th>16</th>\n",
       "      <td>45</td>\n",
       "      <td>admin.</td>\n",
       "      <td>single</td>\n",
       "      <td>unknown</td>\n",
       "      <td>no</td>\n",
       "      <td>13</td>\n",
       "      <td>yes</td>\n",
       "      <td>no</td>\n",
       "      <td>unknown</td>\n",
       "      <td>5</td>\n",
       "      <td>may</td>\n",
       "      <td>98</td>\n",
       "      <td>1</td>\n",
       "      <td>-1</td>\n",
       "      <td>0</td>\n",
       "      <td>unknown</td>\n",
       "      <td>no</td>\n",
       "    </tr>\n",
       "    <tr>\n",
       "      <th>17</th>\n",
       "      <td>57</td>\n",
       "      <td>blue-collar</td>\n",
       "      <td>married</td>\n",
       "      <td>primary</td>\n",
       "      <td>no</td>\n",
       "      <td>52</td>\n",
       "      <td>yes</td>\n",
       "      <td>no</td>\n",
       "      <td>unknown</td>\n",
       "      <td>5</td>\n",
       "      <td>may</td>\n",
       "      <td>38</td>\n",
       "      <td>1</td>\n",
       "      <td>-1</td>\n",
       "      <td>0</td>\n",
       "      <td>unknown</td>\n",
       "      <td>no</td>\n",
       "    </tr>\n",
       "    <tr>\n",
       "      <th>18</th>\n",
       "      <td>60</td>\n",
       "      <td>retired</td>\n",
       "      <td>married</td>\n",
       "      <td>primary</td>\n",
       "      <td>no</td>\n",
       "      <td>60</td>\n",
       "      <td>yes</td>\n",
       "      <td>no</td>\n",
       "      <td>unknown</td>\n",
       "      <td>5</td>\n",
       "      <td>may</td>\n",
       "      <td>219</td>\n",
       "      <td>1</td>\n",
       "      <td>-1</td>\n",
       "      <td>0</td>\n",
       "      <td>unknown</td>\n",
       "      <td>no</td>\n",
       "    </tr>\n",
       "    <tr>\n",
       "      <th>19</th>\n",
       "      <td>33</td>\n",
       "      <td>services</td>\n",
       "      <td>married</td>\n",
       "      <td>secondary</td>\n",
       "      <td>no</td>\n",
       "      <td>0</td>\n",
       "      <td>yes</td>\n",
       "      <td>no</td>\n",
       "      <td>unknown</td>\n",
       "      <td>5</td>\n",
       "      <td>may</td>\n",
       "      <td>54</td>\n",
       "      <td>1</td>\n",
       "      <td>-1</td>\n",
       "      <td>0</td>\n",
       "      <td>unknown</td>\n",
       "      <td>no</td>\n",
       "    </tr>\n",
       "    <tr>\n",
       "      <th>20</th>\n",
       "      <td>28</td>\n",
       "      <td>blue-collar</td>\n",
       "      <td>married</td>\n",
       "      <td>secondary</td>\n",
       "      <td>no</td>\n",
       "      <td>723</td>\n",
       "      <td>yes</td>\n",
       "      <td>yes</td>\n",
       "      <td>unknown</td>\n",
       "      <td>5</td>\n",
       "      <td>may</td>\n",
       "      <td>262</td>\n",
       "      <td>1</td>\n",
       "      <td>-1</td>\n",
       "      <td>0</td>\n",
       "      <td>unknown</td>\n",
       "      <td>no</td>\n",
       "    </tr>\n",
       "    <tr>\n",
       "      <th>21</th>\n",
       "      <td>56</td>\n",
       "      <td>management</td>\n",
       "      <td>married</td>\n",
       "      <td>tertiary</td>\n",
       "      <td>no</td>\n",
       "      <td>779</td>\n",
       "      <td>yes</td>\n",
       "      <td>no</td>\n",
       "      <td>unknown</td>\n",
       "      <td>5</td>\n",
       "      <td>may</td>\n",
       "      <td>164</td>\n",
       "      <td>1</td>\n",
       "      <td>-1</td>\n",
       "      <td>0</td>\n",
       "      <td>unknown</td>\n",
       "      <td>no</td>\n",
       "    </tr>\n",
       "    <tr>\n",
       "      <th>22</th>\n",
       "      <td>32</td>\n",
       "      <td>blue-collar</td>\n",
       "      <td>single</td>\n",
       "      <td>primary</td>\n",
       "      <td>no</td>\n",
       "      <td>23</td>\n",
       "      <td>yes</td>\n",
       "      <td>yes</td>\n",
       "      <td>unknown</td>\n",
       "      <td>5</td>\n",
       "      <td>may</td>\n",
       "      <td>160</td>\n",
       "      <td>1</td>\n",
       "      <td>-1</td>\n",
       "      <td>0</td>\n",
       "      <td>unknown</td>\n",
       "      <td>no</td>\n",
       "    </tr>\n",
       "    <tr>\n",
       "      <th>23</th>\n",
       "      <td>25</td>\n",
       "      <td>services</td>\n",
       "      <td>married</td>\n",
       "      <td>secondary</td>\n",
       "      <td>no</td>\n",
       "      <td>50</td>\n",
       "      <td>yes</td>\n",
       "      <td>no</td>\n",
       "      <td>unknown</td>\n",
       "      <td>5</td>\n",
       "      <td>may</td>\n",
       "      <td>342</td>\n",
       "      <td>1</td>\n",
       "      <td>-1</td>\n",
       "      <td>0</td>\n",
       "      <td>unknown</td>\n",
       "      <td>no</td>\n",
       "    </tr>\n",
       "    <tr>\n",
       "      <th>24</th>\n",
       "      <td>40</td>\n",
       "      <td>retired</td>\n",
       "      <td>married</td>\n",
       "      <td>primary</td>\n",
       "      <td>no</td>\n",
       "      <td>0</td>\n",
       "      <td>yes</td>\n",
       "      <td>yes</td>\n",
       "      <td>unknown</td>\n",
       "      <td>5</td>\n",
       "      <td>may</td>\n",
       "      <td>181</td>\n",
       "      <td>1</td>\n",
       "      <td>-1</td>\n",
       "      <td>0</td>\n",
       "      <td>unknown</td>\n",
       "      <td>no</td>\n",
       "    </tr>\n",
       "    <tr>\n",
       "      <th>25</th>\n",
       "      <td>44</td>\n",
       "      <td>admin.</td>\n",
       "      <td>married</td>\n",
       "      <td>secondary</td>\n",
       "      <td>no</td>\n",
       "      <td>-372</td>\n",
       "      <td>yes</td>\n",
       "      <td>no</td>\n",
       "      <td>unknown</td>\n",
       "      <td>5</td>\n",
       "      <td>may</td>\n",
       "      <td>172</td>\n",
       "      <td>1</td>\n",
       "      <td>-1</td>\n",
       "      <td>0</td>\n",
       "      <td>unknown</td>\n",
       "      <td>no</td>\n",
       "    </tr>\n",
       "    <tr>\n",
       "      <th>26</th>\n",
       "      <td>39</td>\n",
       "      <td>management</td>\n",
       "      <td>single</td>\n",
       "      <td>tertiary</td>\n",
       "      <td>no</td>\n",
       "      <td>255</td>\n",
       "      <td>yes</td>\n",
       "      <td>no</td>\n",
       "      <td>unknown</td>\n",
       "      <td>5</td>\n",
       "      <td>may</td>\n",
       "      <td>296</td>\n",
       "      <td>1</td>\n",
       "      <td>-1</td>\n",
       "      <td>0</td>\n",
       "      <td>unknown</td>\n",
       "      <td>no</td>\n",
       "    </tr>\n",
       "    <tr>\n",
       "      <th>27</th>\n",
       "      <td>52</td>\n",
       "      <td>entrepreneur</td>\n",
       "      <td>married</td>\n",
       "      <td>secondary</td>\n",
       "      <td>no</td>\n",
       "      <td>113</td>\n",
       "      <td>yes</td>\n",
       "      <td>yes</td>\n",
       "      <td>unknown</td>\n",
       "      <td>5</td>\n",
       "      <td>may</td>\n",
       "      <td>127</td>\n",
       "      <td>1</td>\n",
       "      <td>-1</td>\n",
       "      <td>0</td>\n",
       "      <td>unknown</td>\n",
       "      <td>no</td>\n",
       "    </tr>\n",
       "    <tr>\n",
       "      <th>28</th>\n",
       "      <td>46</td>\n",
       "      <td>management</td>\n",
       "      <td>single</td>\n",
       "      <td>secondary</td>\n",
       "      <td>no</td>\n",
       "      <td>-246</td>\n",
       "      <td>yes</td>\n",
       "      <td>no</td>\n",
       "      <td>unknown</td>\n",
       "      <td>5</td>\n",
       "      <td>may</td>\n",
       "      <td>255</td>\n",
       "      <td>2</td>\n",
       "      <td>-1</td>\n",
       "      <td>0</td>\n",
       "      <td>unknown</td>\n",
       "      <td>no</td>\n",
       "    </tr>\n",
       "    <tr>\n",
       "      <th>29</th>\n",
       "      <td>36</td>\n",
       "      <td>technician</td>\n",
       "      <td>single</td>\n",
       "      <td>secondary</td>\n",
       "      <td>no</td>\n",
       "      <td>265</td>\n",
       "      <td>yes</td>\n",
       "      <td>yes</td>\n",
       "      <td>unknown</td>\n",
       "      <td>5</td>\n",
       "      <td>may</td>\n",
       "      <td>348</td>\n",
       "      <td>1</td>\n",
       "      <td>-1</td>\n",
       "      <td>0</td>\n",
       "      <td>unknown</td>\n",
       "      <td>no</td>\n",
       "    </tr>\n",
       "  </tbody>\n",
       "</table>\n",
       "</div>"
      ],
      "text/plain": [
       "    age           job   marital  education default  balance housing loan  \\\n",
       "0    58    management   married   tertiary      no     2143     yes   no   \n",
       "1    44    technician    single  secondary      no       29     yes   no   \n",
       "2    33  entrepreneur   married  secondary      no        2     yes  yes   \n",
       "3    47   blue-collar   married    unknown      no     1506     yes   no   \n",
       "4    33       unknown    single    unknown      no        1      no   no   \n",
       "5    35    management   married   tertiary      no      231     yes   no   \n",
       "6    28    management    single   tertiary      no      447     yes  yes   \n",
       "7    42  entrepreneur  divorced   tertiary     yes        2     yes   no   \n",
       "8    58       retired   married    primary      no      121     yes   no   \n",
       "9    43    technician    single  secondary      no      593     yes   no   \n",
       "10   41        admin.  divorced  secondary      no      270     yes   no   \n",
       "11   29        admin.    single  secondary      no      390     yes   no   \n",
       "12   53    technician   married  secondary      no        6     yes   no   \n",
       "13   58    technician   married    unknown      no       71     yes   no   \n",
       "14   57      services   married  secondary      no      162     yes   no   \n",
       "15   51       retired   married    primary      no      229     yes   no   \n",
       "16   45        admin.    single    unknown      no       13     yes   no   \n",
       "17   57   blue-collar   married    primary      no       52     yes   no   \n",
       "18   60       retired   married    primary      no       60     yes   no   \n",
       "19   33      services   married  secondary      no        0     yes   no   \n",
       "20   28   blue-collar   married  secondary      no      723     yes  yes   \n",
       "21   56    management   married   tertiary      no      779     yes   no   \n",
       "22   32   blue-collar    single    primary      no       23     yes  yes   \n",
       "23   25      services   married  secondary      no       50     yes   no   \n",
       "24   40       retired   married    primary      no        0     yes  yes   \n",
       "25   44        admin.   married  secondary      no     -372     yes   no   \n",
       "26   39    management    single   tertiary      no      255     yes   no   \n",
       "27   52  entrepreneur   married  secondary      no      113     yes  yes   \n",
       "28   46    management    single  secondary      no     -246     yes   no   \n",
       "29   36    technician    single  secondary      no      265     yes  yes   \n",
       "\n",
       "    contact  day month  duration  campaign  pdays  previous poutcome   y  \n",
       "0   unknown    5   may       261         1     -1         0  unknown  no  \n",
       "1   unknown    5   may       151         1     -1         0  unknown  no  \n",
       "2   unknown    5   may        76         1     -1         0  unknown  no  \n",
       "3   unknown    5   may        92         1     -1         0  unknown  no  \n",
       "4   unknown    5   may       198         1     -1         0  unknown  no  \n",
       "5   unknown    5   may       139         1     -1         0  unknown  no  \n",
       "6   unknown    5   may       217         1     -1         0  unknown  no  \n",
       "7   unknown    5   may       380         1     -1         0  unknown  no  \n",
       "8   unknown    5   may        50         1     -1         0  unknown  no  \n",
       "9   unknown    5   may        55         1     -1         0  unknown  no  \n",
       "10  unknown    5   may       222         1     -1         0  unknown  no  \n",
       "11  unknown    5   may       137         1     -1         0  unknown  no  \n",
       "12  unknown    5   may       517         1     -1         0  unknown  no  \n",
       "13  unknown    5   may        71         1     -1         0  unknown  no  \n",
       "14  unknown    5   may       174         1     -1         0  unknown  no  \n",
       "15  unknown    5   may       353         1     -1         0  unknown  no  \n",
       "16  unknown    5   may        98         1     -1         0  unknown  no  \n",
       "17  unknown    5   may        38         1     -1         0  unknown  no  \n",
       "18  unknown    5   may       219         1     -1         0  unknown  no  \n",
       "19  unknown    5   may        54         1     -1         0  unknown  no  \n",
       "20  unknown    5   may       262         1     -1         0  unknown  no  \n",
       "21  unknown    5   may       164         1     -1         0  unknown  no  \n",
       "22  unknown    5   may       160         1     -1         0  unknown  no  \n",
       "23  unknown    5   may       342         1     -1         0  unknown  no  \n",
       "24  unknown    5   may       181         1     -1         0  unknown  no  \n",
       "25  unknown    5   may       172         1     -1         0  unknown  no  \n",
       "26  unknown    5   may       296         1     -1         0  unknown  no  \n",
       "27  unknown    5   may       127         1     -1         0  unknown  no  \n",
       "28  unknown    5   may       255         2     -1         0  unknown  no  \n",
       "29  unknown    5   may       348         1     -1         0  unknown  no  "
      ]
     },
     "execution_count": 84,
     "metadata": {},
     "output_type": "execute_result"
    }
   ],
   "source": [
    "#Se observa una muestra de los datos para observar posibles particularidades para planear limpieza de datos. Se buscan datos incompletos e incongruencias.\n",
    "data.head(30)"
   ]
  },
  {
   "cell_type": "markdown",
   "metadata": {
    "id": "v-04S8dmKeZs"
   },
   "source": [
    "No se detectaron valores nulos al hacer una revision de los datos. Por otro lado, no existen incongruencias con variables categoricas o numericas, siguen el formato estipulado en el archivo bank-diccionario. Debido a esto los pasos a realizar son los siguientes:\n",
    "- Identificar y eliminar datos duplicados\n",
    "- Cambio en datos categoricos para facilidad de los modelos\n"
   ]
  },
  {
   "cell_type": "markdown",
   "metadata": {
    "id": "AlRhW2-eX0aY"
   },
   "source": [
    "# Paso 1: Encontrar duplicados"
   ]
  },
  {
   "cell_type": "code",
   "execution_count": 85,
   "metadata": {},
   "outputs": [
    {
     "data": {
      "text/plain": [
       "(45211, 17)"
      ]
     },
     "execution_count": 85,
     "metadata": {},
     "output_type": "execute_result"
    }
   ],
   "source": [
    "data.shape"
   ]
  },
  {
   "cell_type": "code",
   "execution_count": 86,
   "metadata": {
    "colab": {
     "base_uri": "https://localhost:8080/"
    },
    "id": "BhLtO6nnXV0v",
    "outputId": "0497ca5b-0811-4eaa-cc85-5c857aeeecb7"
   },
   "outputs": [
    {
     "name": "stdout",
     "output_type": "stream",
     "text": [
      "Duplicate Rows:\n",
      "Empty DataFrame\n",
      "Columns: [age, job, marital, education, default, balance, housing, loan, contact, day, month, duration, campaign, pdays, previous, poutcome, y]\n",
      "Index: []\n",
      "Shape of DataFrame after removing duplicates: (45211, 17)\n"
     ]
    }
   ],
   "source": [
    "# Find duplicate rows based on all columns\n",
    "duplicate_rows = data[data.duplicated()]\n",
    "\n",
    "# Print the duplicate rows\n",
    "print(\"Duplicate Rows:\")\n",
    "print(duplicate_rows)\n",
    "\n",
    "# Remove duplicate rows and keep the first occurrence\n",
    "data = data.drop_duplicates()\n",
    "\n",
    "# Print the shape of the DataFrame after removing duplicates\n",
    "print(\"Shape of DataFrame after removing duplicates:\", data.shape)"
   ]
  },
  {
   "cell_type": "markdown",
   "metadata": {
    "id": "IJx7z264X5Be"
   },
   "source": [
    "Ya que el dataframe no cambio de tamano se puede concluir que no existen duplicados\n"
   ]
  },
  {
   "cell_type": "markdown",
   "metadata": {
    "id": "RsbP4_7DKpHA"
   },
   "source": [
    "## Paso 3: Datos atipicos\n"
   ]
  },
  {
   "cell_type": "markdown",
   "metadata": {},
   "source": [
    "es necesario revisar los datos numericos para poder eliminar posibles atipicos"
   ]
  },
  {
   "cell_type": "code",
   "execution_count": 87,
   "metadata": {},
   "outputs": [],
   "source": [
    "data_num = data[[\"age\",\"balance\",\"campaign\", \"pdays\", \"previous\"]]"
   ]
  },
  {
   "cell_type": "code",
   "execution_count": 88,
   "metadata": {
    "colab": {
     "base_uri": "https://localhost:8080/",
     "height": 335
    },
    "id": "1y1YiFPIKofR",
    "outputId": "fb865af6-29a7-441b-d01f-64d34a79ba95"
   },
   "outputs": [
    {
     "data": {
      "text/html": [
       "<div>\n",
       "<style scoped>\n",
       "    .dataframe tbody tr th:only-of-type {\n",
       "        vertical-align: middle;\n",
       "    }\n",
       "\n",
       "    .dataframe tbody tr th {\n",
       "        vertical-align: top;\n",
       "    }\n",
       "\n",
       "    .dataframe thead th {\n",
       "        text-align: right;\n",
       "    }\n",
       "</style>\n",
       "<table border=\"1\" class=\"dataframe\">\n",
       "  <thead>\n",
       "    <tr style=\"text-align: right;\">\n",
       "      <th></th>\n",
       "      <th>age</th>\n",
       "      <th>balance</th>\n",
       "      <th>campaign</th>\n",
       "      <th>pdays</th>\n",
       "      <th>previous</th>\n",
       "    </tr>\n",
       "  </thead>\n",
       "  <tbody>\n",
       "    <tr>\n",
       "      <th>count</th>\n",
       "      <td>45211.000000</td>\n",
       "      <td>45211.000000</td>\n",
       "      <td>45211.000000</td>\n",
       "      <td>45211.000000</td>\n",
       "      <td>45211.000000</td>\n",
       "    </tr>\n",
       "    <tr>\n",
       "      <th>mean</th>\n",
       "      <td>40.936210</td>\n",
       "      <td>1362.272058</td>\n",
       "      <td>2.763841</td>\n",
       "      <td>40.197828</td>\n",
       "      <td>0.580323</td>\n",
       "    </tr>\n",
       "    <tr>\n",
       "      <th>std</th>\n",
       "      <td>10.618762</td>\n",
       "      <td>3044.765829</td>\n",
       "      <td>3.098021</td>\n",
       "      <td>100.128746</td>\n",
       "      <td>2.303441</td>\n",
       "    </tr>\n",
       "    <tr>\n",
       "      <th>min</th>\n",
       "      <td>18.000000</td>\n",
       "      <td>-8019.000000</td>\n",
       "      <td>1.000000</td>\n",
       "      <td>-1.000000</td>\n",
       "      <td>0.000000</td>\n",
       "    </tr>\n",
       "    <tr>\n",
       "      <th>25%</th>\n",
       "      <td>33.000000</td>\n",
       "      <td>72.000000</td>\n",
       "      <td>1.000000</td>\n",
       "      <td>-1.000000</td>\n",
       "      <td>0.000000</td>\n",
       "    </tr>\n",
       "    <tr>\n",
       "      <th>50%</th>\n",
       "      <td>39.000000</td>\n",
       "      <td>448.000000</td>\n",
       "      <td>2.000000</td>\n",
       "      <td>-1.000000</td>\n",
       "      <td>0.000000</td>\n",
       "    </tr>\n",
       "    <tr>\n",
       "      <th>75%</th>\n",
       "      <td>48.000000</td>\n",
       "      <td>1428.000000</td>\n",
       "      <td>3.000000</td>\n",
       "      <td>-1.000000</td>\n",
       "      <td>0.000000</td>\n",
       "    </tr>\n",
       "    <tr>\n",
       "      <th>max</th>\n",
       "      <td>95.000000</td>\n",
       "      <td>102127.000000</td>\n",
       "      <td>63.000000</td>\n",
       "      <td>871.000000</td>\n",
       "      <td>275.000000</td>\n",
       "    </tr>\n",
       "  </tbody>\n",
       "</table>\n",
       "</div>"
      ],
      "text/plain": [
       "                age        balance      campaign         pdays      previous\n",
       "count  45211.000000   45211.000000  45211.000000  45211.000000  45211.000000\n",
       "mean      40.936210    1362.272058      2.763841     40.197828      0.580323\n",
       "std       10.618762    3044.765829      3.098021    100.128746      2.303441\n",
       "min       18.000000   -8019.000000      1.000000     -1.000000      0.000000\n",
       "25%       33.000000      72.000000      1.000000     -1.000000      0.000000\n",
       "50%       39.000000     448.000000      2.000000     -1.000000      0.000000\n",
       "75%       48.000000    1428.000000      3.000000     -1.000000      0.000000\n",
       "max       95.000000  102127.000000     63.000000    871.000000    275.000000"
      ]
     },
     "execution_count": 88,
     "metadata": {},
     "output_type": "execute_result"
    }
   ],
   "source": [
    "data_num.describe()"
   ]
  },
  {
   "cell_type": "markdown",
   "metadata": {
    "id": "esmJySGQY1Hb"
   },
   "source": [
    "Esta linea de codigo nos muestra que hay una gran desviacion estandar. Esto indica que hay valores atipicos."
   ]
  },
  {
   "cell_type": "code",
   "execution_count": 89,
   "metadata": {
    "colab": {
     "base_uri": "https://localhost:8080/",
     "height": 448
    },
    "id": "vpS0OYFWKxRc",
    "outputId": "b815a855-0e2a-4322-8df0-b9188e9af3dd"
   },
   "outputs": [
    {
     "data": {
      "text/plain": [
       "<Axes: >"
      ]
     },
     "execution_count": 89,
     "metadata": {},
     "output_type": "execute_result"
    },
    {
     "data": {
      "image/png": "[encoded data removed]",
      "text/plain": [
       "<Figure size 640x480 with 1 Axes>"
      ]
     },
     "metadata": {},
     "output_type": "display_data"
    }
   ],
   "source": [
    "data_num[\"age\"].plot(kind='box')\n"
   ]
  },
  {
   "cell_type": "code",
   "execution_count": 90,
   "metadata": {},
   "outputs": [
    {
     "data": {
      "text/plain": [
       "<Axes: >"
      ]
     },
     "execution_count": 90,
     "metadata": {},
     "output_type": "execute_result"
    },
    {
     "data": {
      "image/png": "[encoded data removed]",
      "text/plain": [
       "<Figure size 640x480 with 1 Axes>"
      ]
     },
     "metadata": {},
     "output_type": "display_data"
    }
   ],
   "source": [
    "data_num[\"balance\"].plot(kind='box')"
   ]
  },
  {
   "cell_type": "code",
   "execution_count": 91,
   "metadata": {},
   "outputs": [
    {
     "data": {
      "text/plain": [
       "<Axes: >"
      ]
     },
     "execution_count": 91,
     "metadata": {},
     "output_type": "execute_result"
    },
    {
     "data": {
      "image/png": "[encoded data removed]",
      "text/plain": [
       "<Figure size 640x480 with 1 Axes>"
      ]
     },
     "metadata": {},
     "output_type": "display_data"
    }
   ],
   "source": [
    "data_num[\"campaign\"].plot(kind='box')"
   ]
  },
  {
   "cell_type": "code",
   "execution_count": 92,
   "metadata": {},
   "outputs": [
    {
     "data": {
      "text/plain": [
       "<Axes: >"
      ]
     },
     "execution_count": 92,
     "metadata": {},
     "output_type": "execute_result"
    },
    {
     "data": {
      "image/png": "[encoded data removed]",
      "text/plain": [
       "<Figure size 640x480 with 1 Axes>"
      ]
     },
     "metadata": {},
     "output_type": "display_data"
    }
   ],
   "source": [
    "data_num[\"pdays\"].plot(kind='box')"
   ]
  },
  {
   "cell_type": "code",
   "execution_count": 93,
   "metadata": {},
   "outputs": [
    {
     "data": {
      "text/plain": [
       "<Axes: >"
      ]
     },
     "execution_count": 93,
     "metadata": {},
     "output_type": "execute_result"
    },
    {
     "data": {
      "image/png": "[encoded data removed]",
      "text/plain": [
       "<Figure size 640x480 with 1 Axes>"
      ]
     },
     "metadata": {},
     "output_type": "display_data"
    }
   ],
   "source": [
    "data_num[\"previous\"].plot(kind='box')"
   ]
  },
  {
   "cell_type": "markdown",
   "metadata": {},
   "source": [
    "visto esto, no se borraran atipicos de pdays pues hay una cantidad continua de datos hasta el limite superior. Para previous se pondra un limite de datos en 50 al ser donde termina la existencia recurrente de datos. Por esta misma razon, campaign se limitara a 40. Para Age y Balance tomaremos un maximo de 3 desviaciones estandar sobre la media\n",
    "\n"
   ]
  },
  {
   "cell_type": "code",
   "execution_count": 98,
   "metadata": {},
   "outputs": [
    {
     "name": "stdout",
     "output_type": "stream",
     "text": [
      "Datos sin atípicos:\n",
      "       age           job   marital  education default  balance housing loan  \\\n",
      "0       58    management   married   tertiary      no     2143     yes   no   \n",
      "1       44    technician    single  secondary      no       29     yes   no   \n",
      "2       33  entrepreneur   married  secondary      no        2     yes  yes   \n",
      "3       47   blue-collar   married    unknown      no     1506     yes   no   \n",
      "4       33       unknown    single    unknown      no        1      no   no   \n",
      "...    ...           ...       ...        ...     ...      ...     ...  ...   \n",
      "45206   51    technician   married   tertiary      no      825      no   no   \n",
      "45207   71       retired  divorced    primary      no     1729      no   no   \n",
      "45208   72       retired   married  secondary      no     5715      no   no   \n",
      "45209   57   blue-collar   married  secondary      no      668      no   no   \n",
      "45210   37  entrepreneur   married  secondary      no     2971      no   no   \n",
      "\n",
      "         contact  day month  duration  campaign  pdays  previous poutcome    y  \n",
      "0        unknown    5   may       261         1     -1         0  unknown   no  \n",
      "1        unknown    5   may       151         1     -1         0  unknown   no  \n",
      "2        unknown    5   may        76         1     -1         0  unknown   no  \n",
      "3        unknown    5   may        92         1     -1         0  unknown   no  \n",
      "4        unknown    5   may       198         1     -1         0  unknown   no  \n",
      "...          ...  ...   ...       ...       ...    ...       ...      ...  ...  \n",
      "45206   cellular   17   nov       977         3     -1         0  unknown  yes  \n",
      "45207   cellular   17   nov       456         2     -1         0  unknown  yes  \n",
      "45208   cellular   17   nov      1127         5    184         3  success  yes  \n",
      "45209  telephone   17   nov       508         4     -1         0  unknown   no  \n",
      "45210   cellular   17   nov       361         2    188        11    other   no  \n",
      "\n",
      "[44086 rows x 17 columns]\n"
     ]
    }
   ],
   "source": [
    "# Calcular media y desviación estándar\n",
    "media_age = data['age'].mean()\n",
    "desviacion_estandar_age = data['age'].std()\n",
    "\n",
    "media_balance = data['balance'].mean()\n",
    "desviacion_estandar_balance = data['balance'].std()\n",
    "\n",
    "# Definir los límites\n",
    "limite_inferior_age = media_age - 3 * desviacion_estandar_age\n",
    "limite_superior_age = media_age + 3 * desviacion_estandar_age\n",
    "\n",
    "limite_inferior_balance = media_balance - 3 * desviacion_estandar_balance\n",
    "limite_superior_balance = media_balance + 3 * desviacion_estandar_balance\n",
    "\n",
    "# Filtrar los datos dentro de los límites\n",
    "data_no_outliers = data[(data['age'] >= limite_inferior_age) & (data['age'] <= limite_superior_age)]\n",
    "data_no_outliers = data_no_outliers[(data['balance'] >= limite_inferior_balance) & (data['balance'] <= limite_superior_balance)]\n",
    "data_no_outliers = data_no_outliers[(data['previous'] <= 50)]\n",
    "data_no_outliers = data_no_outliers[(data['campaign'] <= 50)]\n",
    "\n",
    "print(\"Datos sin atípicos:\")\n",
    "print(data_no_outliers)\n"
   ]
  },
  {
   "cell_type": "code",
   "execution_count": 95,
   "metadata": {},
   "outputs": [
    {
     "data": {
      "text/plain": [
       "<Axes: >"
      ]
     },
     "execution_count": 95,
     "metadata": {},
     "output_type": "execute_result"
    },
    {
     "data": {
      "image/png": "[encoded data removed]",
      "text/plain": [
       "<Figure size 640x480 with 1 Axes>"
      ]
     },
     "metadata": {},
     "output_type": "display_data"
    }
   ],
   "source": [
    "data_no_outliers[\"age\"].plot(kind='box')"
   ]
  },
  {
   "cell_type": "markdown",
   "metadata": {},
   "source": [
    "## Paso 3: Cambio de variables categoricas para facildiad de analisis"
   ]
  },
  {
   "cell_type": "markdown",
   "metadata": {},
   "source": [
    "Primero cambiamos las varibales binarias por 0s y 1s, luego las otras variables categoricas con metodo HotEncoder"
   ]
  },
  {
   "cell_type": "code",
   "execution_count": 100,
   "metadata": {},
   "outputs": [],
   "source": [
    "data_clean = data_no_outliers\n",
    "data_clean[[\"default\", \"housing\",\"loan\", \"y\"]] = data_clean[[\"default\", \"housing\",\"loan\", \"y\"]].apply(lambda x: x.map({\"yes\":1, \"no\": 0}))"
   ]
  },
  {
   "cell_type": "code",
   "execution_count": 101,
   "metadata": {},
   "outputs": [],
   "source": [
    "columnas_numericas = [\"age\", \"default\", \"balance\", \"housing\", \"loan\", \"day\", \"duration\",\"campaign\", \"pdays\", \"previous\", \"y\" ]  \n",
    "columnas_categoricas = [\"job\", \"marital\", \"education\", \"contact\", \"month\", \"poutcome\"]  "
   ]
  },
  {
   "cell_type": "code",
   "execution_count": 103,
   "metadata": {},
   "outputs": [
    {
     "name": "stdout",
     "output_type": "stream",
     "text": [
      "       job_admin.  job_blue-collar  job_entrepreneur  job_housemaid  \\\n",
      "0             0.0              0.0               0.0            0.0   \n",
      "1             0.0              0.0               0.0            0.0   \n",
      "2             0.0              0.0               1.0            0.0   \n",
      "3             0.0              1.0               0.0            0.0   \n",
      "4             0.0              0.0               0.0            0.0   \n",
      "...           ...              ...               ...            ...   \n",
      "44081         0.0              0.0               0.0            0.0   \n",
      "44082         0.0              0.0               0.0            0.0   \n",
      "44083         0.0              0.0               0.0            0.0   \n",
      "44084         0.0              1.0               0.0            0.0   \n",
      "44085         0.0              0.0               1.0            0.0   \n",
      "\n",
      "       job_management  job_retired  job_self-employed  job_services  \\\n",
      "0                 1.0          0.0                0.0           0.0   \n",
      "1                 0.0          0.0                0.0           0.0   \n",
      "2                 0.0          0.0                0.0           0.0   \n",
      "3                 0.0          0.0                0.0           0.0   \n",
      "4                 0.0          0.0                0.0           0.0   \n",
      "...               ...          ...                ...           ...   \n",
      "44081             0.0          0.0                0.0           0.0   \n",
      "44082             0.0          1.0                0.0           0.0   \n",
      "44083             0.0          1.0                0.0           0.0   \n",
      "44084             0.0          0.0                0.0           0.0   \n",
      "44085             0.0          0.0                0.0           0.0   \n",
      "\n",
      "       job_student  job_technician  ...  default  balance  housing  loan  \\\n",
      "0              0.0             0.0  ...      0.0   2143.0      1.0   0.0   \n",
      "1              0.0             1.0  ...      0.0     29.0      1.0   0.0   \n",
      "2              0.0             0.0  ...      0.0      2.0      1.0   1.0   \n",
      "3              0.0             0.0  ...      0.0   1506.0      1.0   0.0   \n",
      "4              0.0             0.0  ...      0.0      1.0      0.0   0.0   \n",
      "...            ...             ...  ...      ...      ...      ...   ...   \n",
      "44081          0.0             1.0  ...      0.0    825.0      0.0   0.0   \n",
      "44082          0.0             0.0  ...      0.0   1729.0      0.0   0.0   \n",
      "44083          0.0             0.0  ...      0.0   5715.0      0.0   0.0   \n",
      "44084          0.0             0.0  ...      0.0    668.0      0.0   0.0   \n",
      "44085          0.0             0.0  ...      0.0   2971.0      0.0   0.0   \n",
      "\n",
      "        day  duration  campaign  pdays  previous    y  \n",
      "0       5.0     261.0       1.0   -1.0       0.0  0.0  \n",
      "1       5.0     151.0       1.0   -1.0       0.0  0.0  \n",
      "2       5.0      76.0       1.0   -1.0       0.0  0.0  \n",
      "3       5.0      92.0       1.0   -1.0       0.0  0.0  \n",
      "4       5.0     198.0       1.0   -1.0       0.0  0.0  \n",
      "...     ...       ...       ...    ...       ...  ...  \n",
      "44081  17.0     977.0       3.0   -1.0       0.0  1.0  \n",
      "44082  17.0     456.0       2.0   -1.0       0.0  1.0  \n",
      "44083  17.0    1127.0       5.0  184.0       3.0  1.0  \n",
      "44084  17.0     508.0       4.0   -1.0       0.0  0.0  \n",
      "44085  17.0     361.0       2.0  188.0      11.0  0.0  \n",
      "\n",
      "[44086 rows x 49 columns]\n"
     ]
    }
   ],
   "source": [
    "# Configura el ColumnTransformer para transformar solo las columnas categóricas\n",
    "preprocesador = ColumnTransformer(\n",
    "    transformers=[\n",
    "        ('cat', OneHotEncoder(handle_unknown='ignore', sparse_output=False), columnas_categoricas)\n",
    "    ],\n",
    "    remainder='passthrough'  # Deja las columnas numéricas sin cambios\n",
    ")\n",
    "\n",
    "# Aplica la transformación\n",
    "df_transformado = preprocesador.fit_transform(data_clean)\n",
    "\n",
    "# Crear nombres de columnas para el DataFrame transformado\n",
    "columnas_categoricas_transformadas = preprocesador.named_transformers_['cat'].get_feature_names_out(columnas_categoricas)\n",
    "nombres_columnas = list(columnas_categoricas_transformadas) + [col for col in data_clean.columns if col not in columnas_categoricas]\n",
    "\n",
    "# Convertir a DataFrame con las columnas originales y transformadas\n",
    "data_transformada = pd.DataFrame(df_transformado, columns=nombres_columnas)\n",
    "\n",
    "print(data_transformada)"
   ]
  },
  {
   "cell_type": "markdown",
   "metadata": {},
   "source": [
    "## 4. Bases de datos limpias\n",
    "data_clean es una base de datos limpia en tanto a outliers, duplicados y faltantes. En esta base de datos las variables categoricas binarias (yes or no) estan en formato binario (1 = yes, 0 = no)\n",
    "data_transformada corresponde a la base de datos, realizando cambios a las variables categoricas por metodo Hot Encoder. Esta base de datos no se recomienda para vizualizaciones pero si para modelos de redes neuronales."
   ]
  },
  {
   "cell_type": "code",
   "execution_count": 104,
   "metadata": {},
   "outputs": [],
   "source": [
    "## Exportar la base de datos de vizualizaciones a csv para facilidad de manejo\n",
    "data_clean.to_csv('data_clean.csv', index=False)"
   ]
  }
 ],
 "metadata": {
  "colab": {
   "provenance": []
  },
  "kernelspec": {
   "display_name": "Python 3",
   "name": "python3"
  },
  "language_info": {
   "codemirror_mode": {
    "name": "ipython",
    "version": 3
   },
   "file_extension": ".py",
   "mimetype": "text/x-python",
   "name": "python",
   "nbconvert_exporter": "python",
   "pygments_lexer": "ipython3",
   "version": "3.11.9"
  }
 },
 "nbformat": 4,
 "nbformat_minor": 0
}
