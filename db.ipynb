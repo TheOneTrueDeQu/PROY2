{
 "cells": [
  {
   "cell_type": "code",
   "execution_count": 5,
   "metadata": {},
   "outputs": [],
   "source": [
    "import psycopg2\n",
    "engine = psycopg2.connect(\n",
    " dbname=\"proy2\",\n",
    " user=\"postgres\",\n",
    " password=\"Juanre2002\",\n",
    " host=\"p2.cksewmbmxb2q.us-east-1.rds.amazonaws.com\",\n",
    " port='5432'\n",
    " )"
   ]
  }
 ],
 "metadata": {
  "kernelspec": {
   "display_name": "Python 3",
   "language": "python",
   "name": "python3"
  },
  "language_info": {
   "codemirror_mode": {
    "name": "ipython",
    "version": 3
   },
   "file_extension": ".py",
   "mimetype": "text/x-python",
   "name": "python",
   "nbconvert_exporter": "python",
   "pygments_lexer": "ipython3",
   "version": "3.11.0"
  }
 },
 "nbformat": 4,
 "nbformat_minor": 2
}
